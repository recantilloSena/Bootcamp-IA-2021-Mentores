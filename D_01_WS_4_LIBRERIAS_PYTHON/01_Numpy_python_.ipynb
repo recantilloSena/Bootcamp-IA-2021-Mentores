{
  "nbformat": 4,
  "nbformat_minor": 0,
  "metadata": {
    "kernelspec": {
      "name": "python3",
      "display_name": "Python 3.7.3 64-bit"
    },
    "language_info": {
      "codemirror_mode": {
        "name": "ipython",
        "version": 3
      },
      "file_extension": ".py",
      "mimetype": "text/x-python",
      "name": "python",
      "nbconvert_exporter": "python",
      "pygments_lexer": "ipython3",
      "version": "3.7.3"
    },
    "colab": {
      "name": "Introducción a Python .ipynb",
      "provenance": [],
      "collapsed_sections": []
    },
    "interpreter": {
      "hash": "4452263ad4ac7dcd5f4e281ccb334a7bc3480e17de1a9148c05017a944232084"
    }
  },
  "cells": [
    {
      "cell_type": "markdown",
      "metadata": {
        "id": "80EIPNsWgaNR"
      },
      "source": [
        "# Programación con Python - Numpy\n",
        "\n",
        "\n",
        "NumPy es una librería de Python especializada en el cálculo numérico y el análisis de datos, especialmente para un gran volumen de datos.\n",
        "\n",
        "Incorpora una nueva clase de objetos llamados arrays que permite representar colecciones de datos de un mismo tipo en varias dimensiones, y funciones muy eficientes para su manipulación.\n",
        "\n",
        "La clase de objetos array\n",
        "Un array es una estructura de datos de un mismo tipo organizada en forma de tabla o cuadrícula de distintas dimensiones.\n",
        "\n",
        "Las dimensiones de un array también se conocen como ejes."
      ]
    },
    {
      "cell_type": "markdown",
      "metadata": {
        "id": "UGY-DvQqgaN1"
      },
      "source": [
        "### Actividad 1\n",
        "\n",
        "Crear un vector con valores dentro del rango 10 a 49"
      ]
    },
    {
      "cell_type": "code",
      "metadata": {
        "id": "3k81EbAIgaN6",
        "colab": {
          "base_uri": "https://localhost:8080/"
        },
        "outputId": "8d13ec4b-3ac1-4f96-993f-dcf5f5dc1c7f"
      },
      "source": [
        "import numpy as np\n",
        "a = np.arange(10,50)\n",
        "a"
      ],
      "execution_count": 38,
      "outputs": [
        {
          "output_type": "execute_result",
          "data": {
            "text/plain": [
              "array([10, 11, 12, 13, 14, 15, 16, 17, 18, 19, 20, 21, 22, 23, 24, 25, 26,\n",
              "       27, 28, 29, 30, 31, 32, 33, 34, 35, 36, 37, 38, 39, 40, 41, 42, 43,\n",
              "       44, 45, 46, 47, 48, 49])"
            ]
          },
          "metadata": {},
          "execution_count": 38
        }
      ]
    },
    {
      "cell_type": "markdown",
      "metadata": {
        "id": "WdO2G0pZgaN8"
      },
      "source": [
        "### Actividad 2\n",
        "Crear una matriz 3x3 con valores de 0 a 8"
      ]
    },
    {
      "cell_type": "code",
      "metadata": {
        "id": "E7X9XU4PgaN-",
        "colab": {
          "base_uri": "https://localhost:8080/"
        },
        "outputId": "568181a4-c333-4134-f4ed-48e4dc1aaba5"
      },
      "source": [
        "np.arange(0,9).reshape(3,3)\n"
      ],
      "execution_count": 39,
      "outputs": [
        {
          "output_type": "execute_result",
          "data": {
            "text/plain": [
              "array([[0, 1, 2],\n",
              "       [3, 4, 5],\n",
              "       [6, 7, 8]])"
            ]
          },
          "metadata": {},
          "execution_count": 39
        }
      ]
    },
    {
      "cell_type": "markdown",
      "metadata": {
        "id": "0wK_W8OSgaOM"
      },
      "source": [
        "### Actividad 3\n",
        "\n",
        "Encontrar los indices que no son ceros del arreglo [1,2,4,2,4,0,1,0,0,0,12,4,5,6,7,0]\n"
      ]
    },
    {
      "cell_type": "code",
      "metadata": {
        "id": "3ZMZBLQcgaON",
        "colab": {
          "base_uri": "https://localhost:8080/"
        },
        "outputId": "46d28775-5b9c-49cc-e38f-98185760774d"
      },
      "source": [
        "a = np.array([1,2,4,2,4,0,1,0,0,0,12,4,5,6,7,0])\n",
        "np.argwhere( a!=0 )"
      ],
      "execution_count": 40,
      "outputs": [
        {
          "output_type": "execute_result",
          "data": {
            "text/plain": [
              "array([[ 0],\n",
              "       [ 1],\n",
              "       [ 2],\n",
              "       [ 3],\n",
              "       [ 4],\n",
              "       [ 6],\n",
              "       [10],\n",
              "       [11],\n",
              "       [12],\n",
              "       [13],\n",
              "       [14]])"
            ]
          },
          "metadata": {},
          "execution_count": 40
        }
      ]
    },
    {
      "cell_type": "markdown",
      "metadata": {
        "id": "HCzTMEcTiRLY"
      },
      "source": [
        "### Actividad 4 \n",
        "\n",
        "Crear una matriz identidad de 6x6"
      ]
    },
    {
      "cell_type": "code",
      "metadata": {
        "colab": {
          "base_uri": "https://localhost:8080/"
        },
        "id": "SB2v53I4i1Qe",
        "outputId": "9e15c32d-3236-4cb0-f25f-790ab2ce787e"
      },
      "source": [
        "np.identity(6)"
      ],
      "execution_count": 41,
      "outputs": [
        {
          "output_type": "execute_result",
          "data": {
            "text/plain": [
              "array([[1., 0., 0., 0., 0., 0.],\n",
              "       [0., 1., 0., 0., 0., 0.],\n",
              "       [0., 0., 1., 0., 0., 0.],\n",
              "       [0., 0., 0., 1., 0., 0.],\n",
              "       [0., 0., 0., 0., 1., 0.],\n",
              "       [0., 0., 0., 0., 0., 1.]])"
            ]
          },
          "metadata": {},
          "execution_count": 41
        }
      ]
    },
    {
      "cell_type": "markdown",
      "metadata": {
        "id": "m6mOgFOFy2tA"
      },
      "source": [
        ""
      ]
    },
    {
      "cell_type": "markdown",
      "metadata": {
        "id": "lrl_GV2wjoAq"
      },
      "source": [
        "###Actividad 5\n",
        "\n",
        "Crear una matriz con valores al azar con forma 3x3"
      ]
    },
    {
      "cell_type": "code",
      "metadata": {
        "colab": {
          "base_uri": "https://localhost:8080/"
        },
        "id": "jkyF_787jyrr",
        "outputId": "5b7b6982-38c9-4206-c1db-e2702b125d0e"
      },
      "source": [
        "r = np.random.random((3,3))\n",
        "r"
      ],
      "execution_count": 43,
      "outputs": [
        {
          "output_type": "execute_result",
          "data": {
            "text/plain": [
              "array([[0.80302876, 0.54293035, 0.46781065],\n",
              "       [0.82632599, 0.79732725, 0.69519524],\n",
              "       [0.08895429, 0.30096851, 0.14314013]])"
            ]
          },
          "metadata": {},
          "execution_count": 43
        }
      ]
    }
  ]
}